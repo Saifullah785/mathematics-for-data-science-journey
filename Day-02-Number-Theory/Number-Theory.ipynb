{
  "nbformat": 4,
  "nbformat_minor": 0,
  "metadata": {
    "colab": {
      "provenance": [],
      "authorship_tag": "ABX9TyPWVO82xsNuWgkoJkjy5oeR",
      "include_colab_link": true
    },
    "kernelspec": {
      "name": "python3",
      "display_name": "Python 3"
    },
    "language_info": {
      "name": "python"
    }
  },
  "cells": [
    {
      "cell_type": "markdown",
      "metadata": {
        "id": "view-in-github",
        "colab_type": "text"
      },
      "source": [
        "<a href=\"https://colab.research.google.com/github/Saifullah785/mathematics-for-data-science-journey/blob/main/Day-02-Number-Theory/Number-Theory.ipynb\" target=\"_parent\"><img src=\"https://colab.research.google.com/assets/colab-badge.svg\" alt=\"Open In Colab\"/></a>"
      ]
    },
    {
      "cell_type": "markdown",
      "source": [
        "# **📘 What is Number Theory?**\n",
        "\n",
        "Number theory is a branch of mathematics which help to study the set of positive whole number say 1,2,3,4,5,6..., which are also called the set of natural number and sometimes called higher arithmetic.\n",
        "\n",
        "\n",
        "**🔍 Definition (In Simple Words):**\n",
        "\n",
        "Number Theory is the study of whole numbers (integers) and the relationships between them—especially prime numbers, factors, divisibility, and patterns.\n",
        "\n",
        "Think of Number Theory as the science of understanding numbers deeply, not just using them"
      ],
      "metadata": {
        "id": "f2wwbMDv_lBz"
      }
    },
    {
      "cell_type": "markdown",
      "source": [
        "# **🎯 Why Should You Learn Number Theory for Data Science?**\n",
        "\n",
        "Though Number Theory might seem theoretical, it's used in:\n",
        "\n",
        "Hashing algorithms (data indexing, NLP)\n",
        "\n",
        "Cryptography (security, data privacy)\n",
        "\n",
        "Efficient data storage\n",
        "\n",
        "Prime-based ML algorithms\n",
        "\n",
        "Logic-based problem-solving (discrete math, programming)"
      ],
      "metadata": {
        "id": "IHTgSpIiAGeZ"
      }
    },
    {
      "cell_type": "markdown",
      "source": [
        "# **1. Natural Numbers, Whole Numbers, and Integers**\n",
        "\n",
        "**👀 What is it?**\n",
        "\n",
        "Natural numbers: 1, 2, 3, 4, ...\n",
        "\n",
        "Whole numbers: 0, 1, 2, 3, ...\n",
        "\n",
        "Integers: ..., -3, -2, -1, 0, 1, 2, 3, ...\n",
        "\n",
        "**🧠 Daily Life:**\n",
        "\n",
        "Counting fruits (Natural)\n",
        "\n",
        "Calculating bank balance (can go negative → Integers)"
      ],
      "metadata": {
        "id": "Yv1xq3wrBUay"
      }
    },
    {
      "cell_type": "markdown",
      "source": [
        "# **2. Divisibility and Factors**\n",
        "\n",
        "**👀 What is it?**\n",
        "\n",
        "A number a is divisible by b if a % b = 0\n",
        "\n",
        "A factor is a number that divides another exactly\n",
        "\n",
        "**🧠 Daily Life:**\n",
        "\n",
        "Splitting 12 chocolates among 3 friends (12 ÷ 3 = 4 → divisible)\n",
        "\n",
        "Organizing chairs in rows without leftovers (36 chairs in 6 rows)\n",
        "\n",
        "**🎯 In Data:**\n",
        "\n",
        "Detecting even/odd patterns\n",
        "\n",
        "Optimizing rows/columns in data tables"
      ],
      "metadata": {
        "id": "idw2PIVcBUXm"
      }
    },
    {
      "cell_type": "markdown",
      "source": [
        "# **3. Prime Numbers and Composite Numbers**\n",
        "\n",
        "**👀 What is it?**\n",
        "\n",
        "A number with exactly 2 factors: 1 and itself\n",
        "\n",
        "Examples: 2, 3, 5, 7, 11, 13...\n",
        "\n",
        "**Composite Numbers**\n",
        "\n",
        "A number would divide with two or more different number.\n",
        "\n",
        "A number must greater to one >1 and should not a Prime Number\n",
        "\n",
        "Example 4,6,8,9,10...\n",
        "\n",
        "**🧠 Daily Life:**\n",
        "\n",
        "Locking systems use prime-based encryption (e.g., 17 × 23)\n",
        "\n",
        "Creating unique keys in databases (hashing)\n",
        "\n",
        "**🎯 In Data Science:**\n",
        "\n",
        "Prime hashing → used in hash maps/dictionaries\n",
        "\n",
        "Key generation for secure API connections\n",
        "\n"
      ],
      "metadata": {
        "id": "uVFC8ToCBUUv"
      }
    },
    {
      "cell_type": "markdown",
      "source": [
        "# **4. Greatest Common Divisor (GCD) and Least Common Multiple (LCM)**\n",
        "\n",
        "**👀 What is it?**\n",
        "\n",
        "GCD: Largest number that divides two numbers (e.g., GCD(12, 18) = 6)\n",
        "\n",
        "LCM: Smallest number divisible by two numbers (LCM(4, 5) = 20)\n",
        "\n",
        "**🧠 Daily Life:**\n",
        "\n",
        "Coordinating lunch breaks for two shifts (repeat after LCM minutes)\n",
        "\n",
        "Simplifying ratios (e.g., 8:12 → divide both by GCD = 4 → 2:3)\n",
        "\n",
        "**🎯 In Data:**\n",
        "\n",
        "Preprocessing time intervals (sensor data, log data)\n",
        "\n",
        "Optimizing loop steps in algorithms"
      ],
      "metadata": {
        "id": "uyBPnC3GBT_J"
      }
    },
    {
      "cell_type": "markdown",
      "source": [
        "# **5. Modular Arithmetic (\"Clock Math\")**\n",
        "\n",
        "**👀 What is it?**\n",
        "\n",
        "Deals with remainders\n",
        "\n",
        "Written as: a mod n (means remainder when a is divided by n)\n",
        "\n",
        "**🧠 Daily Life:**\n",
        "\n",
        "Time: 17 o'clock mod 12 = 5 → It’s 5 PM!\n",
        "\n",
        "Washing machine ends cycle in 40 mins; what time will it end?\n",
        "\n",
        "**🎯 In Data Science:**\n",
        "\n",
        "Hash functions\n",
        "\n",
        "Feature hashing in NLP\n",
        "\n",
        "Building efficient loops in algorithms"
      ],
      "metadata": {
        "id": "y2bDeHrDCx7c"
      }
    },
    {
      "cell_type": "markdown",
      "source": [
        "# **6. Even and Odd Numbers**\n",
        "\n",
        "**👀 What is it?**\n",
        "\n",
        "Even: divisible by 2\n",
        "\n",
        "Odd: not divisible by 2\n",
        "\n",
        "**🧠 Daily Life:**\n",
        "\n",
        "Checking if number of people is even for pairing up\n",
        "\n",
        "Coding decisions (e.g., alternate day logic)\n",
        "\n",
        "**🎯 In Data:**\n",
        "\n",
        "Feature extraction (parity checks)\n",
        "\n",
        "Cleaning or filtering datasets"
      ],
      "metadata": {
        "id": "DTujhL18C4R8"
      }
    },
    {
      "cell_type": "markdown",
      "source": [
        "#**7.Prime Factorization**\n",
        "\n",
        "**👀 What is it?**\n",
        "\n",
        "Expressing a number as a product of its prime factors.\n",
        "\n",
        "Example: 60 = 2² × 3 × 5\n",
        "\n",
        "**🧠 Daily Life:**\n",
        "\n",
        "Packaging goods (combine in different box sizes)\n",
        "\n",
        "Time schedule syncing\n",
        "\n",
        "**🎯 In Data:**\n",
        "\n",
        "Compression algorithms\n",
        "\n",
        "Cryptographic systems (RSA encryption)"
      ],
      "metadata": {
        "id": "61RTa8zODC7p"
      }
    },
    {
      "cell_type": "markdown",
      "source": [
        "# **8. Perfect, Deficient, and Abundant Numbers**\n",
        "\n",
        "A perfect number is a positive integer that is equal to the sum of its proper divisors, excluding the number itself.\n",
        "\n",
        "for example, 6 is a perfect number because its divisors are 1,2, and 3 and 1+2+3 = 6 the numbers you listed (6,28, 496, 8128.. are known perfect numbers and they are rare\n",
        "\n",
        "**👀 What is it?**\n",
        "\n",
        "Perfect: sum of proper factors = number (e.g., 28 → 1+2+4+7+14 = 28)\n",
        "\n",
        "Deficient: sum < number\n",
        "\n",
        "Abundant: sum > number\n",
        "\n",
        "**🧠 Daily Life:**\n",
        "\n",
        "Budgeting → balance between income (sum of parts) and total expense\n",
        "\n",
        "**🎯 In Data:**\n",
        "\n",
        "Anomaly detection\n",
        "\n",
        "Outlier filtering based on distribution rules"
      ],
      "metadata": {
        "id": "vXoPMUqQDMzs"
      }
    },
    {
      "cell_type": "markdown",
      "source": [
        "# **9. Co-primes (Relatively Prime Numbers)**\n",
        "\n",
        "**👀 What is it?**\n",
        "\n",
        "Two numbers with GCD = 1\n",
        "\n",
        "E.g., 8 and 15 → GCD(8,15) = 1 → Co-prime\n",
        "\n",
        "**🧠 Daily Life:**\n",
        "\n",
        "Scheduling two events with different cycles\n",
        "\n",
        "Two people with mismatched free days\n",
        "\n",
        "**🎯 In Data:**\n",
        "\n",
        "Used in modular inverses\n",
        "\n",
        "Hashing algorithms and encryption systems"
      ],
      "metadata": {
        "id": "ymHkiaPiDUwW"
      }
    },
    {
      "cell_type": "markdown",
      "source": [
        "# **10. Fibonacci Numbers**\n",
        "\n",
        "The fibonacci sequence is a series of numbers where the next number is found by adding up the two numbers before it.\n",
        "\n",
        "Starting with o and 1 the sequence goes 0, 1, 1, 2, 3, 5, 8, 13 and so on.\n",
        "\n",
        "each number inthe sequence is called a fibonacci number.\n",
        "\n",
        "they appear frequently in nature and have many properties and applications in mathematics and science\n",
        "\n",
        "**👀 What is it?**\n",
        "\n",
        "Sequence: 0, 1, 1, 2, 3, 5, 8, 13...\n",
        "\n",
        "Each number = sum of previous two\n",
        "\n",
        "**🧠 Daily Life:**\n",
        "\n",
        "Pet rabbit populations (real story of Fibonacci!)\n",
        "\n",
        "Flower petals, sunflower seeds (Nature follows this!)\n",
        "\n",
        "**🎯 In Data:**\n",
        "\n",
        "Feature engineering\n",
        "\n",
        "Recursive function optimization\n",
        "\n",
        "Time series forecasting"
      ],
      "metadata": {
        "id": "buXSaRXKDl3a"
      }
    },
    {
      "cell_type": "markdown",
      "source": [
        "**1 (modulo 4):**\n",
        "\n",
        "4 +1 = 5\n",
        "\n",
        "5 is the modulo of 4\n",
        "\n",
        "**3(modulo 4):**\n",
        "\n",
        "4 * 3 = 7\n",
        "\n",
        "7 is modulo of 3\n"
      ],
      "metadata": {
        "id": "FVEzs70WFwSR"
      }
    },
    {
      "cell_type": "markdown",
      "source": [
        "**Triangular Number**\n",
        "\n",
        "A triangular number is a number that can be represented as the sum of consecutive positive integers starting from 1. It's called a triangular number because you can arrange that many objects into an equilateral triangle.\n"
      ],
      "metadata": {
        "id": "7QDWdYAqGrO_"
      }
    }
  ]
}